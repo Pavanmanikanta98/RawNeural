{
 "cells": [
  {
   "cell_type": "markdown",
   "id": "504e7d2c-f430-4c05-9bb6-eeca78f0e16b",
   "metadata": {},
   "source": [
    "### Neuron Network From Scratch "
   ]
  },
  {
   "cell_type": "code",
   "execution_count": 1,
   "id": "2b9050d4-4b3c-411c-baf5-2f06c816c331",
   "metadata": {},
   "outputs": [],
   "source": [
    "import numpy as np\n",
    "\n",
    "# Define the neural network components (as provided in the question)\n",
    "class Layer_Dense:\n",
    "    def __init__(self, n_inputs, n_neurons):\n",
    "        self.weights = 0.1 * np.random.randn(n_inputs, n_neurons)\n",
    "        self.biases = np.zeros((1, n_neurons))\n",
    "\n",
    "    def forward(self, inputs):\n",
    "        self.inputs = inputs\n",
    "        self.output = np.dot(inputs, self.weights) + self.biases\n",
    "\n",
    "    def backward(self, dvalues):\n",
    "        self.dweights = np.dot(self.inputs.T, dvalues)\n",
    "        self.dbiases = np.sum(dvalues, axis=0, keepdims=True)\n",
    "        self.dinputs = np.dot(dvalues, self.weights.T)\n",
    "\n",
    "\n",
    "class Activation_ReLU:\n",
    "    def forward(self, inputs):\n",
    "        self.inputs = inputs\n",
    "        self.output = np.maximum(0, inputs)\n",
    "\n",
    "    def backward(self, dvalues):\n",
    "        self.dinputs = dvalues.copy()\n",
    "        self.dinputs[self.inputs <= 0] = 0\n",
    "\n",
    "\n",
    "class Activation_Softmax:\n",
    "    def forward(self, inputs):\n",
    "        self.inputs = inputs\n",
    "        exp_values = np.exp(inputs - np.max(inputs, axis=1, keepdims=True))\n",
    "        self.output = exp_values / np.sum(exp_values, axis=1, keepdims=True)\n",
    "\n",
    "    def backward(self, dvalues):\n",
    "        self.dinputs = np.empty_like(dvalues)\n",
    "        for index, (single_output, single_dvalues) in enumerate(zip(self.output, dvalues)):\n",
    "            single_output = single_output.reshape(-1, 1)\n",
    "            jacobian_matrix = np.diagflat(single_output) - np.dot(single_output, single_output.T)\n",
    "            self.dinputs[index] = np.dot(jacobian_matrix, single_dvalues)\n",
    "\n",
    "\n",
    "class Loss_CategoricalCrossentropy:\n",
    "    def forward(self, y_pred, y_true):\n",
    "        samples = len(y_pred)\n",
    "        y_pred_clipped = np.clip(y_pred, 1e-7, 1 - 1e-7)\n",
    "        correct_confidences = np.sum(y_pred_clipped * y_true, axis=1)\n",
    "        return -np.log(correct_confidences)\n",
    "\n",
    "    def backward(self, dvalues, y_true):\n",
    "        samples = len(dvalues)\n",
    "        labels = len(dvalues[0])\n",
    "        if len(y_true.shape) == 1:\n",
    "            y_true = np.eye(labels)[y_true]\n",
    "        self.dinputs = -y_true / dvalues\n",
    "        self.dinputs = self.dinputs / samples\n",
    "\n",
    "\n",
    "class Optimizer_GD:\n",
    "    def __init__(self, learning_rate=0.01):\n",
    "        self.learning_rate = learning_rate\n",
    "\n",
    "    def update_params(self, layer):\n",
    "        layer.weights -= self.learning_rate * layer.dweights\n",
    "        layer.biases -= self.learning_rate * layer.dbiases\n",
    "\n",
    "\n",
    "    "
   ]
  },
  {
   "cell_type": "code",
   "execution_count": 2,
   "id": "21675c1e-34e1-4274-ae20-e9a32b84ef22",
   "metadata": {},
   "outputs": [
    {
     "name": "stdout",
     "output_type": "stream",
     "text": [
      "Training data shape: (120, 4) (120, 3)\n",
      "Testing data shape: (30, 4) (30, 3)\n"
     ]
    }
   ],
   "source": [
    "from sklearn.datasets import load_iris\n",
    "from sklearn.model_selection import train_test_split\n",
    "from sklearn.preprocessing import OneHotEncoder\n",
    "\n",
    "# Load the Iris dataset\n",
    "iris = load_iris()\n",
    "X = iris.data  # Features (150 samples x 4 features)\n",
    "y = iris.target.reshape(-1, 1)  # Labels (150 samples)\n",
    "\n",
    "# One-hot encode the labels\n",
    "encoder = OneHotEncoder(sparse_output=False)  # Use sparse_output instead of sparse\n",
    "y = encoder.fit_transform(y)\n",
    "\n",
    "# Split into training and testing sets\n",
    "X_train, X_test, y_train, y_test = train_test_split(X, y, test_size=0.2, random_state=42)\n",
    "\n",
    "print(\"Training data shape:\", X_train.shape, y_train.shape)\n",
    "print(\"Testing data shape:\", X_test.shape, y_test.shape)"
   ]
  },
  {
   "cell_type": "code",
   "execution_count": 41,
   "id": "099b1ee3-380e-4dce-903d-036462724a74",
   "metadata": {},
   "outputs": [
    {
     "name": "stdout",
     "output_type": "stream",
     "text": [
      "Epoch 0, Loss: 1.106, Accuracy: 0.333\n",
      "Epoch 100, Loss: 1.074, Accuracy: 0.900\n",
      "Epoch 200, Loss: 0.958, Accuracy: 0.658\n",
      "Epoch 300, Loss: 0.741, Accuracy: 0.658\n",
      "Epoch 400, Loss: 0.574, Accuracy: 0.667\n",
      "Epoch 500, Loss: 0.485, Accuracy: 0.817\n",
      "Epoch 600, Loss: 0.428, Accuracy: 0.908\n",
      "Epoch 700, Loss: 0.382, Accuracy: 0.958\n",
      "Epoch 800, Loss: 0.341, Accuracy: 0.967\n",
      "Epoch 900, Loss: 0.303, Accuracy: 0.975\n",
      "Epoch 1000, Loss: 0.269, Accuracy: 0.983\n",
      "Epoch 1100, Loss: 0.240, Accuracy: 0.983\n",
      "Epoch 1200, Loss: 0.215, Accuracy: 0.983\n",
      "Epoch 1300, Loss: 0.194, Accuracy: 0.983\n",
      "Epoch 1400, Loss: 0.177, Accuracy: 0.983\n",
      "Epoch 1500, Loss: 0.163, Accuracy: 0.983\n",
      "Epoch 1600, Loss: 0.151, Accuracy: 0.983\n",
      "Epoch 1700, Loss: 0.142, Accuracy: 0.983\n",
      "Epoch 1800, Loss: 0.133, Accuracy: 0.983\n",
      "Epoch 1900, Loss: 0.126, Accuracy: 0.983\n",
      "Epoch 2000, Loss: 0.120, Accuracy: 0.983\n"
     ]
    }
   ],
   "source": [
    "\n",
    "# Training loop\n",
    "dense1 = Layer_Dense(4, 5)  # Input layer (4 features) -> Hidden layer (5 neurons)\n",
    "activation1 = Activation_ReLU()\n",
    "dense2 = Layer_Dense(5, 3)  # Hidden layer (5 neurons) -> Output layer (3 classes)\n",
    "activation2 = Activation_Softmax()\n",
    "\n",
    "loss_function = Loss_CategoricalCrossentropy()\n",
    "optimizer = Optimizer_GD(learning_rate=0.01)\n",
    "\n",
    "for epoch in range(2001):  # Train for 1000 epochs\n",
    "    # Forward pass\n",
    "    dense1.forward(X_train)\n",
    "    activation1.forward(dense1.output)\n",
    "    dense2.forward(activation1.output)\n",
    "    activation2.forward(dense2.output)\n",
    "\n",
    "    # Compute loss\n",
    "    loss = np.mean(loss_function.forward(activation2.output, y_train))\n",
    "    # Compute accuracy\n",
    "    predictions = np.argmax(activation2.output, axis=1)\n",
    "    true_labels = np.argmax(y_train, axis=1)\n",
    "    accuracy = np.mean(predictions == true_labels)\n",
    "\n",
    "    # Print statistics every 100 epochs\n",
    "    if epoch % 100 == 0:\n",
    "        print(f'Epoch {epoch}, Loss: {loss:.3f}, Accuracy: {accuracy:.3f}')\n",
    "\n",
    "    # Backward pass\n",
    "    loss_function.backward(activation2.output, y_train)\n",
    "    activation2.backward(loss_function.dinputs)\n",
    "    dense2.backward(activation2.dinputs)\n",
    "    activation1.backward(dense2.dinputs)\n",
    "    dense1.backward(activation1.dinputs)\n",
    "\n",
    "    # Update weights and biases\n",
    "    optimizer.update_params(dense1)\n",
    "    optimizer.update_params(dense2)\n"
   ]
  },
  {
   "cell_type": "code",
   "execution_count": 42,
   "id": "4f757322-639d-4113-849c-c21898d34dc6",
   "metadata": {},
   "outputs": [
    {
     "name": "stdout",
     "output_type": "stream",
     "text": [
      "Test Loss: 0.147, Test Accuracy: 0.967\n"
     ]
    }
   ],
   "source": [
    "# Forward pass on test data\n",
    "dense1.forward(X_test)\n",
    "activation1.forward(dense1.output)\n",
    "dense2.forward(activation1.output)\n",
    "activation2.forward(dense2.output)\n",
    "\n",
    "# Compute test loss and accuracy\n",
    "test_loss = np.mean(loss_function.forward(activation2.output, y_test))\n",
    "test_predictions = np.argmax(activation2.output, axis=1)\n",
    "test_true_labels = np.argmax(y_test, axis=1)\n",
    "test_accuracy = np.mean(test_predictions == test_true_labels)\n",
    "\n",
    "print(f'Test Loss: {test_loss:.3f}, Test Accuracy: {test_accuracy:.3f}')"
   ]
  },
  {
   "cell_type": "code",
   "execution_count": null,
   "id": "422d6877-32d4-450e-8338-0f546f9efba6",
   "metadata": {},
   "outputs": [],
   "source": []
  },
  {
   "cell_type": "code",
   "execution_count": null,
   "id": "cc151750-fc68-4965-a0cf-341d80467901",
   "metadata": {},
   "outputs": [],
   "source": []
  }
 ],
 "metadata": {
  "kernelspec": {
   "display_name": "Python 3 (ipykernel)",
   "language": "python",
   "name": "python3"
  },
  "language_info": {
   "codemirror_mode": {
    "name": "ipython",
    "version": 3
   },
   "file_extension": ".py",
   "mimetype": "text/x-python",
   "name": "python",
   "nbconvert_exporter": "python",
   "pygments_lexer": "ipython3",
   "version": "3.10.12"
  }
 },
 "nbformat": 4,
 "nbformat_minor": 5
}
